{
    "cells": [
        {
            "cell_type": "markdown",
            "metadata": {
                "collapsed": true
            },
            "source": "<h1>Capstone Project - The Battle of Neighborhood (Week 1)</h1>\n<p> By: Charry Lam </p>"
        },
        {
            "cell_type": "markdown",
            "metadata": {},
            "source": "<h2>Problem Overview</h2>"
        },
        {
            "cell_type": "markdown",
            "metadata": {},
            "source": "<h2>Introduction:</h2>"
        },
        {
            "cell_type": "markdown",
            "metadata": {},
            "source": "<p>With the endless selection of food you get in the small town Lafayette, the decision to choose where to go is ever more difficult. Lafayette is home to the University of Louisina known as the Rajun Cajun and many international student study abroad. With that information I would like to know which restaurant have the best rating in the neighborhood?<p>"
        },
        {
            "cell_type": "markdown",
            "metadata": {},
            "source": "<h2> Business Challenge:</h2>"
        },
        {
            "cell_type": "markdown",
            "metadata": {},
            "source": "<p>Using Foursquare API, I will cluster similar restraunt together. Based on the output from foursquare, user can easily determine what type of restaurants are best to eat at based on feedback.</p>"
        },
        {
            "cell_type": "markdown",
            "metadata": {},
            "source": "<h2>Data Requirements: </h2>"
        },
        {
            "cell_type": "markdown",
            "metadata": {},
            "source": "<p>For this assignment, I will be utilizing the Foursquare API to pull the following location data on restaurants in Lafayette, Louisiana <p>"
        },
        {
            "cell_type": "markdown",
            "metadata": {},
            "source": "<ul>\n    <li>Venue Name </li>\n <li>Venue ID</li>\n <li>Venue Location</li>\n <li>Venue Category</li>\n <li>Count of Likes</li>\n    </ul>"
        },
        {
            "cell_type": "code",
            "execution_count": null,
            "metadata": {},
            "outputs": [],
            "source": ""
        },
        {
            "cell_type": "code",
            "execution_count": null,
            "metadata": {},
            "outputs": [],
            "source": ""
        }
    ],
    "metadata": {
        "kernelspec": {
            "display_name": "Python 3.6",
            "language": "python",
            "name": "python3"
        },
        "language_info": {
            "codemirror_mode": {
                "name": "ipython",
                "version": 3
            },
            "file_extension": ".py",
            "mimetype": "text/x-python",
            "name": "python",
            "nbconvert_exporter": "python",
            "pygments_lexer": "ipython3",
            "version": "3.6.8"
        }
    },
    "nbformat": 4,
    "nbformat_minor": 1
}