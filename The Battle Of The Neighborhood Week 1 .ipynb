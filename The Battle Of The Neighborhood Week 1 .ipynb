{
    "cells": [
        {
            "cell_type": "markdown",
            "metadata": {
                "collapsed": true
            },
            "source": "<h1> Peer-graded Assignment: Capstone Project - The Battle of Neighborhoods (Week 1)</h1>\n<h2> Introduction/Business Problem </h2>\n\n<p><b> \"Which local area in all the cities within the United States would be the best place to start a gaming arcade?\"</b></p>\n\n\n<p> My client David L is interested in starting a gamig arcade in the best local area of all the cities in the United States. He defines a best local area based on the following: </p> \n\n\n\n\n<ul>\n  <li>Population density of a locality</li>\n  <li>Per Capital income</li>\n  <li>Population of each location</li>\n  <li>Venues in each locality</li>\n</ul>\n\n<p>The category of the venues that the client is interested in are:</p> \n\n<ul>\n  <li>Arts and Entertainment</li>\n  <li>Shops & Service</li>\n  <li>College and University</li>\n  <li>Event</li>\n  <li>Food</li>\n      <li>NightLife</li>\n      <li>Food</li>\n      <li>Outdoors & Recreation</li>\n      <li>Professional & Other places</li>\n      <li>Residence </li>\n      <li>Travel and Transport</li>\n</ul>\n\n    \n<h3>Data </h3>\n<p>To help David L set up a gaming arcade, we will get the data from the below sources </p>\n<ul>\n    <li> <a href=\"https://en.wikipedia.org/wiki/List_of_United_States_cities_by_population\"> List of all the cities in United States with population density and coordinates: </a> </li>\n\n <li> <a href=\"https://en.wikipedia.org/wiki/List_of_United_States_counties_by_per_capita_income\"> List of all the cities in United States with Per Capita Income : </a> </li>   </ul>\n\n<p> Using Four Square API to get the following</p>\n\n<ul>\n  <li>List of all venues in each city</li>\n  <li>List of all venues in each locality in the selected city</li>\n  \n</ul>\n\n\n<p>\nUsing the above data we will first select best city to proceed with based on the values like Population density, per capita income of the state, number of venues (as we are giving weights to each venue based on its category).</p>\n<p> Once we select a city, we then go hunting for Localities. Again, we do it using the same approach i.e. based on the scores of venues in each local area.</p>"
        },
        {
            "cell_type": "code",
            "execution_count": null,
            "metadata": {},
            "outputs": [],
            "source": ""
        },
        {
            "cell_type": "code",
            "execution_count": null,
            "metadata": {},
            "outputs": [],
            "source": ""
        }
    ],
    "metadata": {
        "kernelspec": {
            "display_name": "Python 3.6",
            "language": "python",
            "name": "python3"
        },
        "language_info": {
            "codemirror_mode": {
                "name": "ipython",
                "version": 3
            },
            "file_extension": ".py",
            "mimetype": "text/x-python",
            "name": "python",
            "nbconvert_exporter": "python",
            "pygments_lexer": "ipython3",
            "version": "3.6.8"
        }
    },
    "nbformat": 4,
    "nbformat_minor": 1
}